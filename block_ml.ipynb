{
 "cells": [
  {
   "cell_type": "markdown",
   "metadata": {},
   "source": [
    "# Module 7: Machine Learning Project Notebook\n",
    "- Author: Matthew Block\n",
    "- [GitHub Project Repository](https://github.com/matthewpblock/datafun-07-ml)"
   ]
  }
 ],
 "metadata": {
  "language_info": {
   "name": "python"
  }
 },
 "nbformat": 4,
 "nbformat_minor": 2
}
